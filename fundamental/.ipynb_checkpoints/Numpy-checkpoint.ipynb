{
 "cells": [
  {
   "cell_type": "code",
   "execution_count": 1,
   "metadata": {},
   "outputs": [
    {
     "name": "stdout",
     "output_type": "stream",
     "text": [
      "[+] Version: 1.19.4\n"
     ]
    }
   ],
   "source": [
    "\"\"\"\n",
    "     Introduction to numpy:\n",
    "     \n",
    "         1. 2D array\n",
    "         2. Zero array\n",
    "         3. Ones array\n",
    "         4. Full array\n",
    "         5. Identity array\n",
    "         6. Random array\n",
    "         7. Evenly spaced array\n",
    "         8. Array multiplication\n",
    "     \n",
    "\"\"\"\n",
    "\n",
    "import numpy as np\n",
    "\n",
    "print(f\"[+] Version: {np.__version__}\")      # Check your numpy version"
   ]
  },
  {
   "cell_type": "code",
   "execution_count": 2,
   "metadata": {},
   "outputs": [
    {
     "name": "stdout",
     "output_type": "stream",
     "text": [
      "[+] Array: \n",
      "[[1 2 3]\n",
      " [4 5 6]]\n",
      "\n",
      "[+] Dimension: (2, 3)\n",
      "[+] Length: 2\n",
      "[+] Number of dimension: 2\n",
      "[+] Size: 6\n",
      "[+] Array data type: int64\n",
      "[+] Transverse array: \n",
      " [[1 4]\n",
      " [2 5]\n",
      " [3 6]] \n",
      "\n",
      "[+] Float format: \n",
      "[['1' '2' '3']\n",
      " ['4' '5' '6']]\n"
     ]
    }
   ],
   "source": [
    "                                        ### 1. 2D array ###\n",
    "\n",
    "array_2D = np.array( [\n",
    "    [1, 2, 3],\n",
    "    [4, 5, 6],\n",
    "] )\n",
    "\n",
    "print(f\"[+] Array: \\n{array_2D}\\n\")\n",
    "print(f\"[+] Dimension: {array_2D.shape}\")\n",
    "print(f\"[+] Length: {len(array_2D)}\")\n",
    "print(f\"[+] Number of dimension: {array_2D.ndim}\")\n",
    "print(f\"[+] Size: {array_2D.size}\")\n",
    "print(f\"[+] Array data type: {array_2D.dtype}\")\n",
    "print(f\"[+] Transverse array: \\n {array_2D.T} \\n\")\n",
    "print(f\"[+] Float format: \\n{array_2D.astype(str)}\")"
   ]
  },
  {
   "cell_type": "code",
   "execution_count": 3,
   "metadata": {},
   "outputs": [
    {
     "name": "stdout",
     "output_type": "stream",
     "text": [
      "[[0 0 0 0]\n",
      " [0 0 0 0]\n",
      " [0 0 0 0]\n",
      " [0 0 0 0]\n",
      " [0 0 0 0]]\n"
     ]
    }
   ],
   "source": [
    "                                        ### 2. Zero array ###\n",
    "\n",
    "zeros_arr = np.zeros( [5, 4], dtype=int)\n",
    "# zeros_arr = np.zeros( (4, 4), dtype=int)\n",
    "\n",
    "print(zeros_arr)"
   ]
  },
  {
   "cell_type": "code",
   "execution_count": 4,
   "metadata": {},
   "outputs": [
    {
     "name": "stdout",
     "output_type": "stream",
     "text": [
      "[['1' '1' '1']\n",
      " ['1' '1' '1']\n",
      " ['1' '1' '1']\n",
      " ['1' '1' '1']]\n"
     ]
    }
   ],
   "source": [
    "                                        ### 3. Ones array ###\n",
    "\n",
    "\n",
    "ones_arr = np.ones( (4, 3), dtype=str)\n",
    "\n",
    "print(ones_arr)"
   ]
  },
  {
   "cell_type": "code",
   "execution_count": 5,
   "metadata": {},
   "outputs": [
    {
     "name": "stdout",
     "output_type": "stream",
     "text": [
      "[[46546546 46546546 46546546]\n",
      " [46546546 46546546 46546546]\n",
      " [46546546 46546546 46546546]\n",
      " [46546546 46546546 46546546]]\n"
     ]
    }
   ],
   "source": [
    "                                        ### 4. Full array ###\n",
    "\n",
    "full_arr = np.full( (4, 3), 46546546 )\n",
    "\n",
    "print(full_arr)"
   ]
  },
  {
   "cell_type": "code",
   "execution_count": 6,
   "metadata": {},
   "outputs": [
    {
     "name": "stdout",
     "output_type": "stream",
     "text": [
      "[[1 0 0 0 0 0 0 0 0 0 0 0]\n",
      " [0 1 0 0 0 0 0 0 0 0 0 0]\n",
      " [0 0 1 0 0 0 0 0 0 0 0 0]\n",
      " [0 0 0 1 0 0 0 0 0 0 0 0]\n",
      " [0 0 0 0 1 0 0 0 0 0 0 0]\n",
      " [0 0 0 0 0 1 0 0 0 0 0 0]\n",
      " [0 0 0 0 0 0 1 0 0 0 0 0]\n",
      " [0 0 0 0 0 0 0 1 0 0 0 0]\n",
      " [0 0 0 0 0 0 0 0 1 0 0 0]\n",
      " [0 0 0 0 0 0 0 0 0 1 0 0]\n",
      " [0 0 0 0 0 0 0 0 0 0 1 0]\n",
      " [0 0 0 0 0 0 0 0 0 0 0 1]]\n"
     ]
    }
   ],
   "source": [
    "                                        ### 5. Identity array ###\n",
    "\n",
    "eye_arr = np.eye( 12, dtype=int )\n",
    "\n",
    "print(eye_arr)"
   ]
  },
  {
   "cell_type": "code",
   "execution_count": 7,
   "metadata": {},
   "outputs": [
    {
     "name": "stdout",
     "output_type": "stream",
     "text": [
      "[[0.89324111 0.21124939 0.95046627 0.54429496 0.96682924]\n",
      " [0.51340877 0.71331095 0.53726801 0.41811672 0.73243387]\n",
      " [0.71328386 0.23313815 0.65395669 0.0654904  0.16432498]\n",
      " [0.47377171 0.13678236 0.55824814 0.71757944 0.58707655]\n",
      " [0.12729488 0.45249694 0.59283978 0.38353293 0.78785577]\n",
      " [0.51905829 0.98148009 0.70479192 0.64071662 0.62481124]\n",
      " [0.03793323 0.18687981 0.43125593 0.57680429 0.72751622]\n",
      " [0.71579338 0.17003993 0.38654576 0.79334438 0.68250989]\n",
      " [0.7507099  0.48664051 0.49563982 0.3738649  0.91242303]]\n"
     ]
    }
   ],
   "source": [
    "                                        ### 6. Random array ###\n",
    "    \n",
    "rand_arr = np.random.random( (9, 5) )\n",
    "\n",
    "print(rand_arr)"
   ]
  },
  {
   "cell_type": "code",
   "execution_count": 8,
   "metadata": {},
   "outputs": [
    {
     "name": "stdout",
     "output_type": "stream",
     "text": [
      "[10 12 14 16 18]\n",
      "[10. 12. 14. 16. 18. 20.]\n"
     ]
    }
   ],
   "source": [
    "                                        ### 7. Evenly spaced array ###\n",
    "\n",
    "\"\"\"\n",
    "    Description: evenly spaced values within a given interval.\n",
    "    Synopsis:\n",
    "        - np.arange(start, stop, step)        \n",
    "\"\"\"\n",
    "\n",
    "range_arr = np.arange(10, 20, 2)\n",
    "\n",
    "\n",
    "\n",
    "\"\"\"\n",
    "    Description: evenly spaced numbers over a specified interval.\n",
    "    Synopsis:\n",
    "        - np.linspace(start, stop, number of instances)\n",
    "\"\"\"\n",
    "\n",
    "linespace_arr = np.linspace(10, 20, 6)\n",
    "\n",
    "\n",
    "# print(np.array(range(10, 20, 2)))\n",
    "\n",
    "print(range_arr)\n",
    "print(linespace_arr)"
   ]
  },
  {
   "cell_type": "code",
   "execution_count": 9,
   "metadata": {},
   "outputs": [
    {
     "name": "stdout",
     "output_type": "stream",
     "text": [
      "[[12 12 12 12]\n",
      " [30 30 30 30]]\n"
     ]
    }
   ],
   "source": [
    "                                        ### 8. Array multiplication ###\n",
    "a = np.array([\n",
    "    [1, 2, 3],\n",
    "    [4, 5, 6],\n",
    "])\n",
    "\n",
    "b = np.full( (3,4), 2 )\n",
    "\n",
    "\n",
    "print( np.dot(a, b) )"
   ]
  },
  {
   "cell_type": "code",
   "execution_count": null,
   "metadata": {},
   "outputs": [],
   "source": []
  }
 ],
 "metadata": {
  "kernelspec": {
   "display_name": "Python 3",
   "language": "python",
   "name": "python3"
  },
  "language_info": {
   "codemirror_mode": {
    "name": "ipython",
    "version": 3
   },
   "file_extension": ".py",
   "mimetype": "text/x-python",
   "name": "python",
   "nbconvert_exporter": "python",
   "pygments_lexer": "ipython3",
   "version": "3.8.5"
  }
 },
 "nbformat": 4,
 "nbformat_minor": 4
}
