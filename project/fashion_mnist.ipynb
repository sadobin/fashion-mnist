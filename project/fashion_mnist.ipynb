{
 "cells": [
  {
   "cell_type": "code",
   "execution_count": 1,
   "metadata": {},
   "outputs": [
    {
     "name": "stdout",
     "output_type": "stream",
     "text": [
      "\n"
     ]
    }
   ],
   "source": [
    "\"\"\"\n",
    "    Fashion mnist project \n",
    "    \n",
    "    \n",
    "    Table of Contents:\n",
    "\n",
    "        1. Importing data\n",
    "        2. Preprocessing data\n",
    "        3. Build the model\n",
    "            3-1. Set up the layers\n",
    "            3-2. Compile the model\n",
    "        4. Train the model\n",
    "            4-1. Feed the model\n",
    "            4-2. Evaluate the accuracy\n",
    "            4-3. Make predictions\n",
    "            4-4. Verify predictions\n",
    "\n",
    "\n",
    "    Reference:\n",
    "        https://www.tensorflow.org/tutorials/keras/classification\n",
    "\"\"\"\n",
    "print()"
   ]
  },
  {
   "cell_type": "code",
   "execution_count": 3,
   "metadata": {},
   "outputs": [
    {
     "name": "stdout",
     "output_type": "stream",
     "text": [
      "[+] Numpy version: 1.19.4\n",
      "[+] Tensorflow version: 2.4.0\n",
      "[+] Matplotlib version: 3.2.1\n"
     ]
    }
   ],
   "source": [
    "import numpy      as np\n",
    "import tensorflow as tf\n",
    "import matplotlib \n",
    "\n",
    "\n",
    "print(f\"[+] Numpy version: {np.__version__}\")\n",
    "print(f\"[+] Tensorflow version: {tf.__version__}\")\n",
    "print(f\"[+] Matplotlib version: {matplotlib.__version__}\")"
   ]
  },
  {
   "cell_type": "code",
   "execution_count": 4,
   "metadata": {},
   "outputs": [],
   "source": [
    "\"\"\"                                    \n",
    "        1. Importing data\n",
    "        \n",
    "        Description: Importing/Loading data from mnist database\n",
    "\"\"\"\n",
    "\n",
    "from tensorflow.keras.datasets import fashion_mnist\n",
    "\n",
    "[train_images, train_labels], [test_images, test_labels] = fashion_mnist.load_data()\n",
    "\n",
    "\n",
    "\n",
    "##### EXAMPLE-1: FASHION MNIST DATA #####\n",
    "##### EXAMPLE-2: VISUALIZE TRAIN IMAGES #####"
   ]
  },
  {
   "cell_type": "code",
   "execution_count": 6,
   "metadata": {},
   "outputs": [],
   "source": [
    "\"\"\"                                \n",
    "        2. Preprocessing data \n",
    "        \n",
    "        Description: Mapping pixel values from 0-255 to 0-1 which means normalizing data.\n",
    "\"\"\"\n",
    "\n",
    "train_images = train_images / np.float32(255)\n",
    "test_images  = test_images  / np.float32(255)\n",
    " \n",
    "\n",
    "##### EXAMPLE-3: VISUALIZE PREPROCESSED TRAIN IMAGES #####"
   ]
  },
  {
   "cell_type": "code",
   "execution_count": 7,
   "metadata": {},
   "outputs": [],
   "source": [
    "\"\"\"                                    \n",
    "        3. Build the model\n",
    "            3-1. Set up the layers\n",
    "\n",
    "        \n",
    "        Description:\n",
    "            - Flatten layer: Reformat 2D matrix (28*28) image to 1D matrix (784*1)\n",
    "                (https://sds-platform-private.s3-us-east-2.amazonaws.com/uploads/73_blog_image_1.png)\n",
    "                \n",
    "            - Dense layer: Fully-connected layer\n",
    "\"\"\"    \n",
    "\n",
    "from tensorflow.keras        import Sequential\n",
    "from tensorflow.keras.layers import Dense, Flatten\n",
    "\n",
    "\n",
    "model = Sequential( [\n",
    "    Flatten( input_shape=(28, 28) ),\n",
    "    Dense(128, activation=\"relu\"),\n",
    "    Dense(10)\n",
    "] )\n"
   ]
  },
  {
   "cell_type": "code",
   "execution_count": 8,
   "metadata": {},
   "outputs": [],
   "source": [
    "\"\"\"                                    \n",
    "        3. Build the model\n",
    "            3-2. Compile the model\n",
    "\n",
    "        Description:\n",
    "            - Optimizer: How model update itself.\n",
    "            - Loss: Compute the quantity that a model should seek to minimize during training. It \n",
    "                    used when two or more label classes was defined.\n",
    "            - Metric: \n",
    "            \n",
    "\n",
    "\"\"\"\n",
    "\n",
    "from tensorflow.keras.losses import SparseCategoricalCrossentropy as SCC\n",
    "\n",
    "\n",
    "model.compile(\n",
    "    optimizer=\"adam\",\n",
    "    loss=SCC(from_logits=True),\n",
    "    metrics=[\"accuracy\"]\n",
    ")\n"
   ]
  },
  {
   "cell_type": "code",
   "execution_count": 9,
   "metadata": {},
   "outputs": [
    {
     "name": "stdout",
     "output_type": "stream",
     "text": [
      "Epoch 1/10\n",
      "1875/1875 [==============================] - 3s 1ms/step - loss: 1.4983 - accuracy: 0.5477\n",
      "Epoch 2/10\n",
      "1875/1875 [==============================] - 2s 1ms/step - loss: 0.6675 - accuracy: 0.7596\n",
      "Epoch 3/10\n",
      "1875/1875 [==============================] - 2s 1ms/step - loss: 0.5820 - accuracy: 0.7894\n",
      "Epoch 4/10\n",
      "1875/1875 [==============================] - 2s 1ms/step - loss: 0.5291 - accuracy: 0.8118\n",
      "Epoch 5/10\n",
      "1875/1875 [==============================] - 3s 1ms/step - loss: 0.5007 - accuracy: 0.8220\n",
      "Epoch 6/10\n",
      "1875/1875 [==============================] - 2s 1ms/step - loss: 0.4787 - accuracy: 0.8306\n",
      "Epoch 7/10\n",
      "1875/1875 [==============================] - 2s 1ms/step - loss: 0.4678 - accuracy: 0.8356\n",
      "Epoch 8/10\n",
      "1875/1875 [==============================] - 2s 1ms/step - loss: 0.4539 - accuracy: 0.8394\n",
      "Epoch 9/10\n",
      "1875/1875 [==============================] - 2s 1ms/step - loss: 0.4425 - accuracy: 0.8430\n",
      "Epoch 10/10\n",
      "1875/1875 [==============================] - 2s 1ms/step - loss: 0.4320 - accuracy: 0.8484\n"
     ]
    },
    {
     "data": {
      "text/plain": [
       "<tensorflow.python.keras.callbacks.History at 0x7f161698d550>"
      ]
     },
     "execution_count": 9,
     "metadata": {},
     "output_type": "execute_result"
    }
   ],
   "source": [
    "\"\"\"                                    \n",
    "        4. Train the model\n",
    "            4-1 Feed the model\n",
    "    \n",
    "        Description: Feed the model with train images \n",
    "\"\"\"\n",
    "\n",
    "model.fit(\n",
    "    train_images,\n",
    "    train_labels,\n",
    "    epochs=10\n",
    ")"
   ]
  },
  {
   "cell_type": "code",
   "execution_count": 10,
   "metadata": {},
   "outputs": [
    {
     "name": "stdout",
     "output_type": "stream",
     "text": [
      "313/313 - 0s - loss: 0.4708 - accuracy: 0.8277\n",
      "Loss: 0.47079214453697205\n",
      "Accuracy: 0.8277000188827515\n"
     ]
    }
   ],
   "source": [
    "\"\"\"                                    \n",
    "        4. Train the model \n",
    "            4-2 Evaluate the accuracy\n",
    "\n",
    "        Description: compare how the model performs on the test dataset\n",
    "            - Overfitting concept\n",
    "\"\"\"\n",
    "\n",
    "loss, accuracy = model.evaluate(test_images, test_labels, verbose=2)\n",
    "print( f\"Loss: {loss}\\nAccuracy: {accuracy}\" )\n"
   ]
  },
  {
   "cell_type": "code",
   "execution_count": 21,
   "metadata": {},
   "outputs": [
    {
     "name": "stdout",
     "output_type": "stream",
     "text": [
      "[1.2286300e-03 9.9462825e-01 3.0059754e-04 9.5208647e-04 2.8132123e-03\n",
      " 8.3058517e-12 7.6120406e-05 5.2402416e-09 1.0675617e-06 2.5030547e-10]\n",
      "[+] Index[1]: 0.9946282505989075\n"
     ]
    }
   ],
   "source": [
    "\"\"\"                                    \n",
    "        4. Train the model \n",
    "            4-3 Make predictions\n",
    "        \n",
    "        Description: Append softmax as last hidden layer and make prediction about all test images.\n",
    "            - Softmax: Convert logits to probabilities for easier interpretation.\n",
    "\"\"\"\n",
    "\n",
    "from tensorflow.keras.layers import Softmax\n",
    "\n",
    "\n",
    "probability_model = Sequential( [\n",
    "    model,\n",
    "    Softmax()\n",
    "] )\n",
    "\n",
    "prediction = probability_model.predict( test_images )\n",
    "\n",
    "\n",
    "\n",
    "##### EXAMPLE-4: Check prediction #####\n",
    "# print( f\"[+] prediction shape: {prediction.shape}\\n\" )\n",
    "\n",
    "def predict_accuracy(num):\n",
    "    print( prediction[num] )\n",
    "    print( f\"[+] Index[{np.argmax( prediction[num] )}]: {np.max( prediction[num] )}\" )\n",
    "\n",
    "predict_accuracy(5)\n",
    "#######################################"
   ]
  },
  {
   "cell_type": "code",
   "execution_count": 22,
   "metadata": {},
   "outputs": [
    {
     "data": {
      "image/png": "[encoded data removed]",
      "text/plain": [
       "<Figure size 432x288 with 1 Axes>"
      ]
     },
     "metadata": {},
     "output_type": "display_data"
    }
   ],
   "source": [
    "\"\"\"                                    \n",
    "        4. Train the model\n",
    "            4-4 Verify predictions\n",
    "\n",
    "        Description: Plot test images if prediction was corrected.\n",
    "\"\"\"\n",
    "\n",
    "import matplotlib.pyplot as plt\n",
    "\n",
    "\n",
    "class_names = ['T-shirt/top', 'Trouser', 'Pullover', 'Dress', 'Coat',\n",
    "               'Sandal', 'Shirt', 'Sneaker', 'Bag', 'Ankle boot']\n",
    "\n",
    "\n",
    "def plot(i):\n",
    "    \n",
    "    ## Expected data\n",
    "    image, label = test_images[i], test_labels[i]\n",
    "    \n",
    "    ## Predicted data\n",
    "    predicted_data  = prediction[i]\n",
    "    predicted_label = np.argmax( predicted_data )\n",
    "    predicted_image = test_images[i]\n",
    "    \n",
    "    if not predicted_label == label: return\n",
    "\n",
    "    ## Plotting predicted image\n",
    "    plt.figure()\n",
    "    plt.grid(False)\n",
    "    plt.xticks([])\n",
    "    plt.yticks([])\n",
    "    plt.imshow( predicted_image, cmap=plt.cm.binary )\n",
    "#     plt.imshow( predicted_image )\n",
    "#     plt.colorbar()\n",
    "    label = f\"{ class_names[predicted_label] } \\n {100*np.max(predicted_data)} ({ class_names[label] })\"\n",
    "    plt.xlabel(label.center(20, ' '))\n",
    "    plt.show()\n",
    "\n",
    "\n",
    "plot(5)"
   ]
  }
 ],
 "metadata": {
  "kernelspec": {
   "display_name": "Python 3",
   "language": "python",
   "name": "python3"
  },
  "language_info": {
   "codemirror_mode": {
    "name": "ipython",
    "version": 3
   },
   "file_extension": ".py",
   "mimetype": "text/x-python",
   "name": "python",
   "nbconvert_exporter": "python",
   "pygments_lexer": "ipython3",
   "version": "3.8.5"
  }
 },
 "nbformat": 4,
 "nbformat_minor": 4
}
